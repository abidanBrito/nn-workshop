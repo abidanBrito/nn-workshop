{
  "cells": [
    {
      "cell_type": "markdown",
      "metadata": {
        "id": "oFKFiw4K3KhD"
      },
      "source": [
        "# Single-layer Perceptron\n",
        "\n",
        "<img src=\"https://external-content.duckduckgo.com/iu/?u=http%3A%2F%2Fblog.josemarianoalvarez.com%2Fwp-content%2Fuploads%2F2018%2F06%2FModeloPerceptron.jpeg&f=1&nofb=1&ipt=70acefd9ffd7b80356c3c7cd7b1eb0de7baeacc107199095a8fffd00df2f157a\" width=\"800\">"
      ]
    },
    {
      "cell_type": "code",
      "execution_count": 328,
      "metadata": {
        "colab": {
          "base_uri": "https://localhost:8080/"
        },
        "id": "LTKxeyE_3KB_",
        "outputId": "444c61a1-4492-4609-bbe7-ec7ccacf8fa1"
      },
      "outputs": [
        {
          "output_type": "stream",
          "name": "stdout",
          "text": [
            "Requirement already satisfied: torch in /usr/local/lib/python3.11/dist-packages (2.6.0+cu124)\n",
            "Requirement already satisfied: filelock in /usr/local/lib/python3.11/dist-packages (from torch) (3.18.0)\n",
            "Requirement already satisfied: typing-extensions>=4.10.0 in /usr/local/lib/python3.11/dist-packages (from torch) (4.13.2)\n",
            "Requirement already satisfied: networkx in /usr/local/lib/python3.11/dist-packages (from torch) (3.4.2)\n",
            "Requirement already satisfied: jinja2 in /usr/local/lib/python3.11/dist-packages (from torch) (3.1.6)\n",
            "Requirement already satisfied: fsspec in /usr/local/lib/python3.11/dist-packages (from torch) (2025.3.2)\n",
            "Requirement already satisfied: nvidia-cuda-nvrtc-cu12==12.4.127 in /usr/local/lib/python3.11/dist-packages (from torch) (12.4.127)\n",
            "Requirement already satisfied: nvidia-cuda-runtime-cu12==12.4.127 in /usr/local/lib/python3.11/dist-packages (from torch) (12.4.127)\n",
            "Requirement already satisfied: nvidia-cuda-cupti-cu12==12.4.127 in /usr/local/lib/python3.11/dist-packages (from torch) (12.4.127)\n",
            "Requirement already satisfied: nvidia-cudnn-cu12==9.1.0.70 in /usr/local/lib/python3.11/dist-packages (from torch) (9.1.0.70)\n",
            "Requirement already satisfied: nvidia-cublas-cu12==12.4.5.8 in /usr/local/lib/python3.11/dist-packages (from torch) (12.4.5.8)\n",
            "Requirement already satisfied: nvidia-cufft-cu12==11.2.1.3 in /usr/local/lib/python3.11/dist-packages (from torch) (11.2.1.3)\n",
            "Requirement already satisfied: nvidia-curand-cu12==10.3.5.147 in /usr/local/lib/python3.11/dist-packages (from torch) (10.3.5.147)\n",
            "Requirement already satisfied: nvidia-cusolver-cu12==11.6.1.9 in /usr/local/lib/python3.11/dist-packages (from torch) (11.6.1.9)\n",
            "Requirement already satisfied: nvidia-cusparse-cu12==12.3.1.170 in /usr/local/lib/python3.11/dist-packages (from torch) (12.3.1.170)\n",
            "Requirement already satisfied: nvidia-cusparselt-cu12==0.6.2 in /usr/local/lib/python3.11/dist-packages (from torch) (0.6.2)\n",
            "Requirement already satisfied: nvidia-nccl-cu12==2.21.5 in /usr/local/lib/python3.11/dist-packages (from torch) (2.21.5)\n",
            "Requirement already satisfied: nvidia-nvtx-cu12==12.4.127 in /usr/local/lib/python3.11/dist-packages (from torch) (12.4.127)\n",
            "Requirement already satisfied: nvidia-nvjitlink-cu12==12.4.127 in /usr/local/lib/python3.11/dist-packages (from torch) (12.4.127)\n",
            "Requirement already satisfied: triton==3.2.0 in /usr/local/lib/python3.11/dist-packages (from torch) (3.2.0)\n",
            "Requirement already satisfied: sympy==1.13.1 in /usr/local/lib/python3.11/dist-packages (from torch) (1.13.1)\n",
            "Requirement already satisfied: mpmath<1.4,>=1.1.0 in /usr/local/lib/python3.11/dist-packages (from sympy==1.13.1->torch) (1.3.0)\n",
            "Requirement already satisfied: MarkupSafe>=2.0 in /usr/local/lib/python3.11/dist-packages (from jinja2->torch) (3.0.2)\n",
            "Requirement already satisfied: torchvision in /usr/local/lib/python3.11/dist-packages (0.21.0+cu124)\n",
            "Requirement already satisfied: numpy in /usr/local/lib/python3.11/dist-packages (from torchvision) (2.0.2)\n",
            "Requirement already satisfied: torch==2.6.0 in /usr/local/lib/python3.11/dist-packages (from torchvision) (2.6.0+cu124)\n",
            "Requirement already satisfied: pillow!=8.3.*,>=5.3.0 in /usr/local/lib/python3.11/dist-packages (from torchvision) (11.2.1)\n",
            "Requirement already satisfied: filelock in /usr/local/lib/python3.11/dist-packages (from torch==2.6.0->torchvision) (3.18.0)\n",
            "Requirement already satisfied: typing-extensions>=4.10.0 in /usr/local/lib/python3.11/dist-packages (from torch==2.6.0->torchvision) (4.13.2)\n",
            "Requirement already satisfied: networkx in /usr/local/lib/python3.11/dist-packages (from torch==2.6.0->torchvision) (3.4.2)\n",
            "Requirement already satisfied: jinja2 in /usr/local/lib/python3.11/dist-packages (from torch==2.6.0->torchvision) (3.1.6)\n",
            "Requirement already satisfied: fsspec in /usr/local/lib/python3.11/dist-packages (from torch==2.6.0->torchvision) (2025.3.2)\n",
            "Requirement already satisfied: nvidia-cuda-nvrtc-cu12==12.4.127 in /usr/local/lib/python3.11/dist-packages (from torch==2.6.0->torchvision) (12.4.127)\n",
            "Requirement already satisfied: nvidia-cuda-runtime-cu12==12.4.127 in /usr/local/lib/python3.11/dist-packages (from torch==2.6.0->torchvision) (12.4.127)\n",
            "Requirement already satisfied: nvidia-cuda-cupti-cu12==12.4.127 in /usr/local/lib/python3.11/dist-packages (from torch==2.6.0->torchvision) (12.4.127)\n",
            "Requirement already satisfied: nvidia-cudnn-cu12==9.1.0.70 in /usr/local/lib/python3.11/dist-packages (from torch==2.6.0->torchvision) (9.1.0.70)\n",
            "Requirement already satisfied: nvidia-cublas-cu12==12.4.5.8 in /usr/local/lib/python3.11/dist-packages (from torch==2.6.0->torchvision) (12.4.5.8)\n",
            "Requirement already satisfied: nvidia-cufft-cu12==11.2.1.3 in /usr/local/lib/python3.11/dist-packages (from torch==2.6.0->torchvision) (11.2.1.3)\n",
            "Requirement already satisfied: nvidia-curand-cu12==10.3.5.147 in /usr/local/lib/python3.11/dist-packages (from torch==2.6.0->torchvision) (10.3.5.147)\n",
            "Requirement already satisfied: nvidia-cusolver-cu12==11.6.1.9 in /usr/local/lib/python3.11/dist-packages (from torch==2.6.0->torchvision) (11.6.1.9)\n",
            "Requirement already satisfied: nvidia-cusparse-cu12==12.3.1.170 in /usr/local/lib/python3.11/dist-packages (from torch==2.6.0->torchvision) (12.3.1.170)\n",
            "Requirement already satisfied: nvidia-cusparselt-cu12==0.6.2 in /usr/local/lib/python3.11/dist-packages (from torch==2.6.0->torchvision) (0.6.2)\n",
            "Requirement already satisfied: nvidia-nccl-cu12==2.21.5 in /usr/local/lib/python3.11/dist-packages (from torch==2.6.0->torchvision) (2.21.5)\n",
            "Requirement already satisfied: nvidia-nvtx-cu12==12.4.127 in /usr/local/lib/python3.11/dist-packages (from torch==2.6.0->torchvision) (12.4.127)\n",
            "Requirement already satisfied: nvidia-nvjitlink-cu12==12.4.127 in /usr/local/lib/python3.11/dist-packages (from torch==2.6.0->torchvision) (12.4.127)\n",
            "Requirement already satisfied: triton==3.2.0 in /usr/local/lib/python3.11/dist-packages (from torch==2.6.0->torchvision) (3.2.0)\n",
            "Requirement already satisfied: sympy==1.13.1 in /usr/local/lib/python3.11/dist-packages (from torch==2.6.0->torchvision) (1.13.1)\n",
            "Requirement already satisfied: mpmath<1.4,>=1.1.0 in /usr/local/lib/python3.11/dist-packages (from sympy==1.13.1->torch==2.6.0->torchvision) (1.3.0)\n",
            "Requirement already satisfied: MarkupSafe>=2.0 in /usr/local/lib/python3.11/dist-packages (from jinja2->torch==2.6.0->torchvision) (3.0.2)\n"
          ]
        }
      ],
      "source": [
        "# @title Dependencies\n",
        "\n",
        "!pip install torch\n",
        "!pip install torchvision\n",
        "\n",
        "import torch\n",
        "import torch.nn as nn\n",
        "import torch.optim as optim\n",
        "import matplotlib.pyplot as plt"
      ]
    },
    {
      "cell_type": "code",
      "execution_count": 329,
      "metadata": {
        "id": "f2oDMBIBw9rb"
      },
      "outputs": [],
      "source": [
        "# @title Dataset\n",
        "\n",
        "# NOTE(abi): since we're working with logic gates we'll create some dummy data.\n",
        "# Input features (2 features per sample)\n",
        "X = torch.tensor([[0, 0], [0, 1], [1, 0], [1, 1]], dtype=torch.float32)\n",
        "\n",
        "# Output labels\n",
        "# TODO(abi): play around with different truth tables. Hint: XOR will fail!\n",
        "y = torch.tensor([[0], [0], [0], [1]], dtype=torch.float32)"
      ]
    },
    {
      "cell_type": "code",
      "execution_count": 330,
      "metadata": {
        "id": "i8G80ecv476Z"
      },
      "outputs": [],
      "source": [
        "# @title Network architecture\n",
        "\n",
        "# NOTE(abi): this is the simplest neural network one could possible make, i.e., a single neuron.\n",
        "class SingleLayerPerceptron(nn.Module):\n",
        "    def __init__(self, input_size: int = 2) -> None:\n",
        "        super().__init__()\n",
        "        self.hidden = nn.Linear(input_size, input_size)\n",
        "        self.output = nn.Linear(input_size, 1)\n",
        "\n",
        "    # NOTE(abi): the `unit step` function is not differentiable, so we would have to disable autograding. Instead, we'll use\n",
        "    #            the sigmoid function.\n",
        "    def forward(self, x) -> torch.Tensor:\n",
        "        # Hidden layer + non-linear activation function (sigmoid, ReLU, etc.)\n",
        "        # x = torch.sigmoid(self.hidden(x))\n",
        "\n",
        "        # Output layer (sigmoid for binary probability distribution)\n",
        "        return torch.sigmoid(self.output(x))"
      ]
    },
    {
      "cell_type": "code",
      "execution_count": 331,
      "metadata": {
        "id": "ZQhxWMC-6LzG"
      },
      "outputs": [],
      "source": [
        "# @title Model initialization\n",
        "\n",
        "# Initialize the model\n",
        "model = SingleLayerPerceptron()\n",
        "\n",
        "# Loss function and optimizer\n",
        "criterion = nn.BCELoss()\n",
        "optimizer = optim.SGD(model.parameters(), lr=0.1)"
      ]
    },
    {
      "cell_type": "code",
      "execution_count": 332,
      "metadata": {
        "colab": {
          "base_uri": "https://localhost:8080/",
          "height": 931
        },
        "id": "ubvU5ZiT599F",
        "outputId": "8bc87172-2ce1-44f7-c283-c013323a4c9b"
      },
      "outputs": [
        {
          "output_type": "stream",
          "name": "stdout",
          "text": [
            "Epoch [200 / 5000], Loss: 0.3408\n",
            "Epoch [400 / 5000], Loss: 0.2486\n",
            "Epoch [600 / 5000], Loss: 0.1973\n",
            "Epoch [800 / 5000], Loss: 0.1639\n",
            "Epoch [1000 / 5000], Loss: 0.1401\n",
            "Epoch [1200 / 5000], Loss: 0.1222\n",
            "Epoch [1400 / 5000], Loss: 0.1083\n",
            "Epoch [1600 / 5000], Loss: 0.0972\n",
            "Epoch [1800 / 5000], Loss: 0.0881\n",
            "Epoch [2000 / 5000], Loss: 0.0805\n",
            "Epoch [2200 / 5000], Loss: 0.0741\n",
            "Epoch [2400 / 5000], Loss: 0.0686\n",
            "Epoch [2600 / 5000], Loss: 0.0638\n",
            "Epoch [2800 / 5000], Loss: 0.0596\n",
            "Epoch [3000 / 5000], Loss: 0.0560\n",
            "Epoch [3200 / 5000], Loss: 0.0527\n",
            "Epoch [3400 / 5000], Loss: 0.0498\n",
            "Epoch [3600 / 5000], Loss: 0.0472\n",
            "Epoch [3800 / 5000], Loss: 0.0449\n",
            "Epoch [4000 / 5000], Loss: 0.0427\n",
            "Epoch [4200 / 5000], Loss: 0.0408\n",
            "Epoch [4400 / 5000], Loss: 0.0390\n",
            "Epoch [4600 / 5000], Loss: 0.0374\n",
            "Epoch [4800 / 5000], Loss: 0.0359\n",
            "Epoch [5000 / 5000], Loss: 0.0345\n"
          ]
        },
        {
          "output_type": "display_data",
          "data": {
            "text/plain": [
              "<Figure size 640x480 with 1 Axes>"
            ],
            "image/png": "[encoded data removed]"
          },
          "metadata": {}
        }
      ],
      "source": [
        "# @title Training\n",
        "\n",
        "epochs = 5000\n",
        "losses = []\n",
        "for epoch in range(epochs):\n",
        "    # Forward pass\n",
        "    outputs = model(X)\n",
        "    loss = criterion(outputs, y)\n",
        "\n",
        "    # Backward pass and optimize\n",
        "    optimizer.zero_grad()\n",
        "    loss.backward()\n",
        "    optimizer.step()\n",
        "\n",
        "    # Store loss\n",
        "    losses.append(loss.item())\n",
        "\n",
        "    if (epoch + 1) % 200 == 0:\n",
        "        print(f'Epoch [{epoch + 1} / {epochs}], Loss: {loss.item():.4f}')\n",
        "\n",
        "# Plot training loss over time\n",
        "plt.plot(losses)\n",
        "plt.xlabel('Epoch')\n",
        "plt.ylabel('Loss')\n",
        "plt.title('Training loss')\n",
        "plt.grid(True)\n",
        "plt.show()"
      ]
    },
    {
      "cell_type": "code",
      "execution_count": 333,
      "metadata": {
        "colab": {
          "base_uri": "https://localhost:8080/"
        },
        "id": "1tiYUF-W5-KJ",
        "outputId": "9dd76869-21d0-4133-d6a0-57c81c201be5"
      },
      "outputs": [
        {
          "output_type": "stream",
          "name": "stdout",
          "text": [
            "Predicted: tensor([0., 0., 0., 1.])\n",
            "Actual: tensor([0., 0., 0., 1.])\n",
            "Accuracy: 100.00%\n"
          ]
        }
      ],
      "source": [
        "# @title Evaluation\n",
        "\n",
        "with torch.no_grad():\n",
        "    probs = model(X)\n",
        "    predicted = (probs > 0.5).float()\n",
        "    accuracy = (predicted == y).float().mean()\n",
        "    print(f\"Predicted: {predicted.flatten()}\")\n",
        "    print(f\"Actual: {y.flatten()}\")\n",
        "    print(f\"Accuracy: {accuracy.item()*100:.2f}%\")"
      ]
    }
  ],
  "metadata": {
    "accelerator": "GPU",
    "colab": {
      "gpuType": "T4",
      "toc_visible": true,
      "provenance": []
    },
    "kernelspec": {
      "display_name": "Python 3",
      "name": "python3"
    },
    "language_info": {
      "name": "python"
    }
  },
  "nbformat": 4,
  "nbformat_minor": 0
}